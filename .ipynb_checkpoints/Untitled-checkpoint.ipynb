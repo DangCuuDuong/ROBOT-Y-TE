{
 "cells": [
  {
   "cell_type": "code",
   "execution_count": 2,
   "id": "wrong-transcript",
   "metadata": {},
   "outputs": [],
   "source": [
    "import numpy as np\n",
    "import cv2\n",
    "import face_recognition\n",
    "from skimage.measure import compare_ssim\n",
    "from mtcnn_cv2 import MTCNN\n",
    "\n",
    "ksize = (101, 101)\n",
    "font = cv2.FONT_HERSHEY_SIMPLEX\n",
    "\n",
    "detector = MTCNN()\n",
    "img = cv2.imread('dataset/User.BaoLong.jpg')\n",
    "\n",
    "result = detector.detect_faces(img)\n",
    "\n",
    "if len(result) > 0:\n",
    "    bounding_box = result[0]['box']\n",
    "    left = bounding_box[0]\n",
    "    top = bounding_box[1]\n",
    "    width = bounding_box[2]\n",
    "    height = bounding_box[3]\n",
    "    cropped_image = img[top:top + height, left:left + width]\n",
    "    cv2.rectangle(img,\n",
    "                (bounding_box[0], bounding_box[1]),\n",
    "                (bounding_box[0]+bounding_box[2], bounding_box[1] + bounding_box[3]),\n",
    "                (0,155,255),\n",
    "                2)\n",
    "    cv2.imshow('',img)\n",
    "    if cv2.waitKey(1) & 0xFF == ord('q'):\n",
    "        cv2.destroyAllWindows()\n"
   ]
  },
  {
   "cell_type": "code",
   "execution_count": null,
   "id": "worthy-jenny",
   "metadata": {},
   "outputs": [],
   "source": []
  }
 ],
 "metadata": {
  "kernelspec": {
   "display_name": "Python 3",
   "language": "python",
   "name": "python3"
  },
  "language_info": {
   "codemirror_mode": {
    "name": "ipython",
    "version": 3
   },
   "file_extension": ".py",
   "mimetype": "text/x-python",
   "name": "python",
   "nbconvert_exporter": "python",
   "pygments_lexer": "ipython3",
   "version": "3.6.9"
  }
 },
 "nbformat": 4,
 "nbformat_minor": 5
}
